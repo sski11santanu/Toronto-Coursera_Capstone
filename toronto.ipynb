{
 "cells": [
  {
   "cell_type": "markdown",
   "metadata": {},
   "source": [
    "<div style=\"background: yellow; color: blue; font-size: 2rem;\"><h1>Segmenting and Clustering Neighborhoods in Toronto</h1></div>\n",
    "\n",
    "<span style=\"padding: 10px; background: white; color: red; font-size: 1.5rem;\">by <b>Santanu Sikder</b></span>"
   ]
  },
  {
   "cell_type": "markdown",
   "metadata": {},
   "source": [
    "<h1><u>Part-1:</u> Scraping the data (table) from the Wikipedia page and preparing the dataframe</h1>"
   ]
  },
  {
   "cell_type": "code",
   "execution_count": 1,
   "metadata": {},
   "outputs": [
    {
     "name": "stdout",
     "output_type": "stream",
     "text": [
      "Requirement already satisfied: lxml in c:\\users\\s t u d\\appdata\\local\\programs\\python\\python37\\lib\\site-packages (4.5.2)\n"
     ]
    },
    {
     "name": "stderr",
     "output_type": "stream",
     "text": [
      "WARNING: You are using pip version 19.2.3, however version 20.2 is available.\n",
      "You should consider upgrading via the 'python -m pip install --upgrade pip' command.\n"
     ]
    }
   ],
   "source": [
    "# Install lxml for reading HTML tables using pandas' read_html method\n",
    "!pip install lxml"
   ]
  },
  {
   "cell_type": "code",
   "execution_count": 2,
   "metadata": {},
   "outputs": [],
   "source": [
    "# Import the necessary modules first\n",
    "import pandas as pd\n",
    "import numpy as np\n",
    "import matplotlib.pyplot as plt\n",
    "import requests\n",
    "import folium\n",
    "from sklearn.cluster import KMeans"
   ]
  },
  {
   "cell_type": "markdown",
   "metadata": {},
   "source": [
    "I'll use Pandas' **read_html** method to get the tables from the given link in the form of a list of dataframes.\n",
    "\n",
    "Then I'll assign the first dataframe in the list (because that is what we want) to **dfMain**."
   ]
  },
  {
   "cell_type": "code",
   "execution_count": 3,
   "metadata": {},
   "outputs": [
    {
     "data": {
      "text/html": [
       "<div>\n",
       "<style scoped>\n",
       "    .dataframe tbody tr th:only-of-type {\n",
       "        vertical-align: middle;\n",
       "    }\n",
       "\n",
       "    .dataframe tbody tr th {\n",
       "        vertical-align: top;\n",
       "    }\n",
       "\n",
       "    .dataframe thead th {\n",
       "        text-align: right;\n",
       "    }\n",
       "</style>\n",
       "<table border=\"1\" class=\"dataframe\">\n",
       "  <thead>\n",
       "    <tr style=\"text-align: right;\">\n",
       "      <th></th>\n",
       "      <th>Postal Code</th>\n",
       "      <th>Borough</th>\n",
       "      <th>Neighbourhood</th>\n",
       "    </tr>\n",
       "  </thead>\n",
       "  <tbody>\n",
       "    <tr>\n",
       "      <th>0</th>\n",
       "      <td>M1A</td>\n",
       "      <td>Not assigned</td>\n",
       "      <td>Not assigned</td>\n",
       "    </tr>\n",
       "    <tr>\n",
       "      <th>1</th>\n",
       "      <td>M2A</td>\n",
       "      <td>Not assigned</td>\n",
       "      <td>Not assigned</td>\n",
       "    </tr>\n",
       "    <tr>\n",
       "      <th>2</th>\n",
       "      <td>M3A</td>\n",
       "      <td>North York</td>\n",
       "      <td>Parkwoods</td>\n",
       "    </tr>\n",
       "    <tr>\n",
       "      <th>3</th>\n",
       "      <td>M4A</td>\n",
       "      <td>North York</td>\n",
       "      <td>Victoria Village</td>\n",
       "    </tr>\n",
       "    <tr>\n",
       "      <th>4</th>\n",
       "      <td>M5A</td>\n",
       "      <td>Downtown Toronto</td>\n",
       "      <td>Regent Park, Harbourfront</td>\n",
       "    </tr>\n",
       "  </tbody>\n",
       "</table>\n",
       "</div>"
      ],
      "text/plain": [
       "  Postal Code           Borough              Neighbourhood\n",
       "0         M1A      Not assigned               Not assigned\n",
       "1         M2A      Not assigned               Not assigned\n",
       "2         M3A        North York                  Parkwoods\n",
       "3         M4A        North York           Victoria Village\n",
       "4         M5A  Downtown Toronto  Regent Park, Harbourfront"
      ]
     },
     "execution_count": 3,
     "metadata": {},
     "output_type": "execute_result"
    }
   ],
   "source": [
    "dfMain = pd.read_html(\"http://en.wikipedia.org/wiki/List_of_postal_codes_of_Canada:_M\")[0]\n",
    "\n",
    "# Check if the dataframe has been read in successfully from the table\n",
    "dfMain.head()"
   ]
  },
  {
   "cell_type": "code",
   "execution_count": 4,
   "metadata": {},
   "outputs": [
    {
     "data": {
      "text/html": [
       "<div>\n",
       "<style scoped>\n",
       "    .dataframe tbody tr th:only-of-type {\n",
       "        vertical-align: middle;\n",
       "    }\n",
       "\n",
       "    .dataframe tbody tr th {\n",
       "        vertical-align: top;\n",
       "    }\n",
       "\n",
       "    .dataframe thead th {\n",
       "        text-align: right;\n",
       "    }\n",
       "</style>\n",
       "<table border=\"1\" class=\"dataframe\">\n",
       "  <thead>\n",
       "    <tr style=\"text-align: right;\">\n",
       "      <th></th>\n",
       "      <th>PostalCode</th>\n",
       "      <th>Borough</th>\n",
       "      <th>Neighbourhood</th>\n",
       "    </tr>\n",
       "  </thead>\n",
       "  <tbody>\n",
       "    <tr>\n",
       "      <th>0</th>\n",
       "      <td>M1A</td>\n",
       "      <td>Not assigned</td>\n",
       "      <td>Not assigned</td>\n",
       "    </tr>\n",
       "    <tr>\n",
       "      <th>1</th>\n",
       "      <td>M2A</td>\n",
       "      <td>Not assigned</td>\n",
       "      <td>Not assigned</td>\n",
       "    </tr>\n",
       "    <tr>\n",
       "      <th>2</th>\n",
       "      <td>M3A</td>\n",
       "      <td>North York</td>\n",
       "      <td>Parkwoods</td>\n",
       "    </tr>\n",
       "    <tr>\n",
       "      <th>3</th>\n",
       "      <td>M4A</td>\n",
       "      <td>North York</td>\n",
       "      <td>Victoria Village</td>\n",
       "    </tr>\n",
       "    <tr>\n",
       "      <th>4</th>\n",
       "      <td>M5A</td>\n",
       "      <td>Downtown Toronto</td>\n",
       "      <td>Regent Park, Harbourfront</td>\n",
       "    </tr>\n",
       "  </tbody>\n",
       "</table>\n",
       "</div>"
      ],
      "text/plain": [
       "  PostalCode           Borough              Neighbourhood\n",
       "0        M1A      Not assigned               Not assigned\n",
       "1        M2A      Not assigned               Not assigned\n",
       "2        M3A        North York                  Parkwoods\n",
       "3        M4A        North York           Victoria Village\n",
       "4        M5A  Downtown Toronto  Regent Park, Harbourfront"
      ]
     },
     "execution_count": 4,
     "metadata": {},
     "output_type": "execute_result"
    }
   ],
   "source": [
    "# Rename the column \"Postal Code\" to \"PostalCode\"\n",
    "dfMain.rename(columns = {\"Postal Code\" : \"PostalCode\"}, inplace = True)\n",
    "# Preview the dataframe\n",
    "dfMain.head()"
   ]
  },
  {
   "cell_type": "code",
   "execution_count": 5,
   "metadata": {},
   "outputs": [],
   "source": [
    "# Export it to a local file as csv file\n",
    "# dfMain.to_csv(\"canada_postal_codes.csv\")"
   ]
  },
  {
   "cell_type": "code",
   "execution_count": 6,
   "metadata": {},
   "outputs": [
    {
     "data": {
      "text/html": [
       "<div>\n",
       "<style scoped>\n",
       "    .dataframe tbody tr th:only-of-type {\n",
       "        vertical-align: middle;\n",
       "    }\n",
       "\n",
       "    .dataframe tbody tr th {\n",
       "        vertical-align: top;\n",
       "    }\n",
       "\n",
       "    .dataframe thead th {\n",
       "        text-align: right;\n",
       "    }\n",
       "</style>\n",
       "<table border=\"1\" class=\"dataframe\">\n",
       "  <thead>\n",
       "    <tr style=\"text-align: right;\">\n",
       "      <th></th>\n",
       "      <th>PostalCode</th>\n",
       "      <th>Borough</th>\n",
       "      <th>Neighbourhood</th>\n",
       "    </tr>\n",
       "  </thead>\n",
       "  <tbody>\n",
       "    <tr>\n",
       "      <th>0</th>\n",
       "      <td>M3A</td>\n",
       "      <td>North York</td>\n",
       "      <td>Parkwoods</td>\n",
       "    </tr>\n",
       "    <tr>\n",
       "      <th>1</th>\n",
       "      <td>M4A</td>\n",
       "      <td>North York</td>\n",
       "      <td>Victoria Village</td>\n",
       "    </tr>\n",
       "    <tr>\n",
       "      <th>2</th>\n",
       "      <td>M5A</td>\n",
       "      <td>Downtown Toronto</td>\n",
       "      <td>Regent Park, Harbourfront</td>\n",
       "    </tr>\n",
       "    <tr>\n",
       "      <th>3</th>\n",
       "      <td>M6A</td>\n",
       "      <td>North York</td>\n",
       "      <td>Lawrence Manor, Lawrence Heights</td>\n",
       "    </tr>\n",
       "    <tr>\n",
       "      <th>4</th>\n",
       "      <td>M7A</td>\n",
       "      <td>Downtown Toronto</td>\n",
       "      <td>Queen's Park, Ontario Provincial Government</td>\n",
       "    </tr>\n",
       "  </tbody>\n",
       "</table>\n",
       "</div>"
      ],
      "text/plain": [
       "  PostalCode           Borough                                Neighbourhood\n",
       "0        M3A        North York                                    Parkwoods\n",
       "1        M4A        North York                             Victoria Village\n",
       "2        M5A  Downtown Toronto                    Regent Park, Harbourfront\n",
       "3        M6A        North York             Lawrence Manor, Lawrence Heights\n",
       "4        M7A  Downtown Toronto  Queen's Park, Ontario Provincial Government"
      ]
     },
     "execution_count": 6,
     "metadata": {},
     "output_type": "execute_result"
    }
   ],
   "source": [
    "# Drop such rows where the Borough is \"Not assigned\"\n",
    "# The same can be accomplished by filtering the dataframe using a mask, but I'll use the drop method\n",
    "df = dfMain.drop(dfMain[dfMain[\"Borough\"] == \"Not assigned\"].index, axis = 0).reset_index(drop = True)\n",
    "# Preview the dataframe\n",
    "df.head()"
   ]
  },
  {
   "cell_type": "markdown",
   "metadata": {},
   "source": [
    "The scenario specified in the 3rd and 4th points in the 3rd step of the first part of the assignment instructions **do not exist**, i.e., neither there is any need to combine the Neighbourhood names using commas (as it is already done in the Wikipedia page) nor is there any row with only the Neighbourhood Not Assigned (as of August 2020).\n",
    "\n",
    "Therefore, I'll move on skipping these two unnecessary steps"
   ]
  },
  {
   "cell_type": "code",
   "execution_count": 7,
   "metadata": {},
   "outputs": [
    {
     "data": {
      "text/plain": [
       "(103, 3)"
      ]
     },
     "execution_count": 7,
     "metadata": {},
     "output_type": "execute_result"
    }
   ],
   "source": [
    "# Print out the shape of the dataframe\n",
    "df.shape"
   ]
  },
  {
   "cell_type": "markdown",
   "metadata": {},
   "source": [
    "This is **THE END OF PART - 1**"
   ]
  },
  {
   "cell_type": "markdown",
   "metadata": {},
   "source": [
    "<h1><u>Part-2:</u> Creating the dataframe containing the latitudes and longitudes of the postal codes</h1>"
   ]
  },
  {
   "cell_type": "markdown",
   "metadata": {},
   "source": [
    "I'll use the CSV file whose link has been provided in the instructions for this assignment to create the required dataframe."
   ]
  },
  {
   "cell_type": "code",
   "execution_count": 8,
   "metadata": {},
   "outputs": [
    {
     "data": {
      "text/html": [
       "<div>\n",
       "<style scoped>\n",
       "    .dataframe tbody tr th:only-of-type {\n",
       "        vertical-align: middle;\n",
       "    }\n",
       "\n",
       "    .dataframe tbody tr th {\n",
       "        vertical-align: top;\n",
       "    }\n",
       "\n",
       "    .dataframe thead th {\n",
       "        text-align: right;\n",
       "    }\n",
       "</style>\n",
       "<table border=\"1\" class=\"dataframe\">\n",
       "  <thead>\n",
       "    <tr style=\"text-align: right;\">\n",
       "      <th></th>\n",
       "      <th>PostalCode</th>\n",
       "      <th>Latitude</th>\n",
       "      <th>Longitude</th>\n",
       "    </tr>\n",
       "  </thead>\n",
       "  <tbody>\n",
       "    <tr>\n",
       "      <th>0</th>\n",
       "      <td>M1B</td>\n",
       "      <td>43.806686</td>\n",
       "      <td>-79.194353</td>\n",
       "    </tr>\n",
       "    <tr>\n",
       "      <th>1</th>\n",
       "      <td>M1C</td>\n",
       "      <td>43.784535</td>\n",
       "      <td>-79.160497</td>\n",
       "    </tr>\n",
       "    <tr>\n",
       "      <th>2</th>\n",
       "      <td>M1E</td>\n",
       "      <td>43.763573</td>\n",
       "      <td>-79.188711</td>\n",
       "    </tr>\n",
       "    <tr>\n",
       "      <th>3</th>\n",
       "      <td>M1G</td>\n",
       "      <td>43.770992</td>\n",
       "      <td>-79.216917</td>\n",
       "    </tr>\n",
       "    <tr>\n",
       "      <th>4</th>\n",
       "      <td>M1H</td>\n",
       "      <td>43.773136</td>\n",
       "      <td>-79.239476</td>\n",
       "    </tr>\n",
       "    <tr>\n",
       "      <th>...</th>\n",
       "      <td>...</td>\n",
       "      <td>...</td>\n",
       "      <td>...</td>\n",
       "    </tr>\n",
       "    <tr>\n",
       "      <th>98</th>\n",
       "      <td>M9N</td>\n",
       "      <td>43.706876</td>\n",
       "      <td>-79.518188</td>\n",
       "    </tr>\n",
       "    <tr>\n",
       "      <th>99</th>\n",
       "      <td>M9P</td>\n",
       "      <td>43.696319</td>\n",
       "      <td>-79.532242</td>\n",
       "    </tr>\n",
       "    <tr>\n",
       "      <th>100</th>\n",
       "      <td>M9R</td>\n",
       "      <td>43.688905</td>\n",
       "      <td>-79.554724</td>\n",
       "    </tr>\n",
       "    <tr>\n",
       "      <th>101</th>\n",
       "      <td>M9V</td>\n",
       "      <td>43.739416</td>\n",
       "      <td>-79.588437</td>\n",
       "    </tr>\n",
       "    <tr>\n",
       "      <th>102</th>\n",
       "      <td>M9W</td>\n",
       "      <td>43.706748</td>\n",
       "      <td>-79.594054</td>\n",
       "    </tr>\n",
       "  </tbody>\n",
       "</table>\n",
       "<p>103 rows × 3 columns</p>\n",
       "</div>"
      ],
      "text/plain": [
       "    PostalCode   Latitude  Longitude\n",
       "0          M1B  43.806686 -79.194353\n",
       "1          M1C  43.784535 -79.160497\n",
       "2          M1E  43.763573 -79.188711\n",
       "3          M1G  43.770992 -79.216917\n",
       "4          M1H  43.773136 -79.239476\n",
       "..         ...        ...        ...\n",
       "98         M9N  43.706876 -79.518188\n",
       "99         M9P  43.696319 -79.532242\n",
       "100        M9R  43.688905 -79.554724\n",
       "101        M9V  43.739416 -79.588437\n",
       "102        M9W  43.706748 -79.594054\n",
       "\n",
       "[103 rows x 3 columns]"
      ]
     },
     "execution_count": 8,
     "metadata": {},
     "output_type": "execute_result"
    }
   ],
   "source": [
    "dfLatLong = pd.read_csv(\"geospatial_coordinates.csv\").rename(columns = {\"Postal Code\" : \"PostalCode\"})\n",
    "# Preview the dataframe\n",
    "dfLatLong"
   ]
  },
  {
   "cell_type": "markdown",
   "metadata": {},
   "source": [
    "I'll set the PostalCode columns in both df as well as dfLatLong as the **index**. This will be helpful in the next step."
   ]
  },
  {
   "cell_type": "code",
   "execution_count": 9,
   "metadata": {},
   "outputs": [
    {
     "data": {
      "text/html": [
       "<div>\n",
       "<style scoped>\n",
       "    .dataframe tbody tr th:only-of-type {\n",
       "        vertical-align: middle;\n",
       "    }\n",
       "\n",
       "    .dataframe tbody tr th {\n",
       "        vertical-align: top;\n",
       "    }\n",
       "\n",
       "    .dataframe thead th {\n",
       "        text-align: right;\n",
       "    }\n",
       "</style>\n",
       "<table border=\"1\" class=\"dataframe\">\n",
       "  <thead>\n",
       "    <tr style=\"text-align: right;\">\n",
       "      <th></th>\n",
       "      <th>Borough</th>\n",
       "      <th>Neighbourhood</th>\n",
       "    </tr>\n",
       "    <tr>\n",
       "      <th>PostalCode</th>\n",
       "      <th></th>\n",
       "      <th></th>\n",
       "    </tr>\n",
       "  </thead>\n",
       "  <tbody>\n",
       "    <tr>\n",
       "      <th>M3A</th>\n",
       "      <td>North York</td>\n",
       "      <td>Parkwoods</td>\n",
       "    </tr>\n",
       "    <tr>\n",
       "      <th>M4A</th>\n",
       "      <td>North York</td>\n",
       "      <td>Victoria Village</td>\n",
       "    </tr>\n",
       "    <tr>\n",
       "      <th>M5A</th>\n",
       "      <td>Downtown Toronto</td>\n",
       "      <td>Regent Park, Harbourfront</td>\n",
       "    </tr>\n",
       "    <tr>\n",
       "      <th>M6A</th>\n",
       "      <td>North York</td>\n",
       "      <td>Lawrence Manor, Lawrence Heights</td>\n",
       "    </tr>\n",
       "    <tr>\n",
       "      <th>M7A</th>\n",
       "      <td>Downtown Toronto</td>\n",
       "      <td>Queen's Park, Ontario Provincial Government</td>\n",
       "    </tr>\n",
       "  </tbody>\n",
       "</table>\n",
       "</div>"
      ],
      "text/plain": [
       "                     Borough                                Neighbourhood\n",
       "PostalCode                                                               \n",
       "M3A               North York                                    Parkwoods\n",
       "M4A               North York                             Victoria Village\n",
       "M5A         Downtown Toronto                    Regent Park, Harbourfront\n",
       "M6A               North York             Lawrence Manor, Lawrence Heights\n",
       "M7A         Downtown Toronto  Queen's Park, Ontario Provincial Government"
      ]
     },
     "execution_count": 9,
     "metadata": {},
     "output_type": "execute_result"
    }
   ],
   "source": [
    "df.set_index(\"PostalCode\", inplace = True)\n",
    "dfLatLong.set_index(\"PostalCode\", inplace = True)\n",
    "# Preview df\n",
    "df.head()"
   ]
  },
  {
   "cell_type": "code",
   "execution_count": 10,
   "metadata": {},
   "outputs": [
    {
     "data": {
      "text/html": [
       "<div>\n",
       "<style scoped>\n",
       "    .dataframe tbody tr th:only-of-type {\n",
       "        vertical-align: middle;\n",
       "    }\n",
       "\n",
       "    .dataframe tbody tr th {\n",
       "        vertical-align: top;\n",
       "    }\n",
       "\n",
       "    .dataframe thead th {\n",
       "        text-align: right;\n",
       "    }\n",
       "</style>\n",
       "<table border=\"1\" class=\"dataframe\">\n",
       "  <thead>\n",
       "    <tr style=\"text-align: right;\">\n",
       "      <th></th>\n",
       "      <th>Latitude</th>\n",
       "      <th>Longitude</th>\n",
       "    </tr>\n",
       "    <tr>\n",
       "      <th>PostalCode</th>\n",
       "      <th></th>\n",
       "      <th></th>\n",
       "    </tr>\n",
       "  </thead>\n",
       "  <tbody>\n",
       "    <tr>\n",
       "      <th>M1B</th>\n",
       "      <td>43.806686</td>\n",
       "      <td>-79.194353</td>\n",
       "    </tr>\n",
       "    <tr>\n",
       "      <th>M1C</th>\n",
       "      <td>43.784535</td>\n",
       "      <td>-79.160497</td>\n",
       "    </tr>\n",
       "    <tr>\n",
       "      <th>M1E</th>\n",
       "      <td>43.763573</td>\n",
       "      <td>-79.188711</td>\n",
       "    </tr>\n",
       "    <tr>\n",
       "      <th>M1G</th>\n",
       "      <td>43.770992</td>\n",
       "      <td>-79.216917</td>\n",
       "    </tr>\n",
       "    <tr>\n",
       "      <th>M1H</th>\n",
       "      <td>43.773136</td>\n",
       "      <td>-79.239476</td>\n",
       "    </tr>\n",
       "  </tbody>\n",
       "</table>\n",
       "</div>"
      ],
      "text/plain": [
       "             Latitude  Longitude\n",
       "PostalCode                      \n",
       "M1B         43.806686 -79.194353\n",
       "M1C         43.784535 -79.160497\n",
       "M1E         43.763573 -79.188711\n",
       "M1G         43.770992 -79.216917\n",
       "M1H         43.773136 -79.239476"
      ]
     },
     "execution_count": 10,
     "metadata": {},
     "output_type": "execute_result"
    }
   ],
   "source": [
    "# Preview dfLatLong\n",
    "dfLatLong.head()"
   ]
  },
  {
   "cell_type": "markdown",
   "metadata": {},
   "source": [
    "I'll now insert the latitudes and longitudes from the above dataframe to our df."
   ]
  },
  {
   "cell_type": "code",
   "execution_count": 11,
   "metadata": {},
   "outputs": [
    {
     "data": {
      "text/html": [
       "<div>\n",
       "<style scoped>\n",
       "    .dataframe tbody tr th:only-of-type {\n",
       "        vertical-align: middle;\n",
       "    }\n",
       "\n",
       "    .dataframe tbody tr th {\n",
       "        vertical-align: top;\n",
       "    }\n",
       "\n",
       "    .dataframe thead th {\n",
       "        text-align: right;\n",
       "    }\n",
       "</style>\n",
       "<table border=\"1\" class=\"dataframe\">\n",
       "  <thead>\n",
       "    <tr style=\"text-align: right;\">\n",
       "      <th></th>\n",
       "      <th>Borough</th>\n",
       "      <th>Neighbourhood</th>\n",
       "      <th>Latitude</th>\n",
       "      <th>Longitude</th>\n",
       "    </tr>\n",
       "    <tr>\n",
       "      <th>PostalCode</th>\n",
       "      <th></th>\n",
       "      <th></th>\n",
       "      <th></th>\n",
       "      <th></th>\n",
       "    </tr>\n",
       "  </thead>\n",
       "  <tbody>\n",
       "    <tr>\n",
       "      <th>M3A</th>\n",
       "      <td>North York</td>\n",
       "      <td>Parkwoods</td>\n",
       "      <td>43.753259</td>\n",
       "      <td>-79.329656</td>\n",
       "    </tr>\n",
       "    <tr>\n",
       "      <th>M4A</th>\n",
       "      <td>North York</td>\n",
       "      <td>Victoria Village</td>\n",
       "      <td>43.725882</td>\n",
       "      <td>-79.315572</td>\n",
       "    </tr>\n",
       "    <tr>\n",
       "      <th>M5A</th>\n",
       "      <td>Downtown Toronto</td>\n",
       "      <td>Regent Park, Harbourfront</td>\n",
       "      <td>43.654260</td>\n",
       "      <td>-79.360636</td>\n",
       "    </tr>\n",
       "    <tr>\n",
       "      <th>M6A</th>\n",
       "      <td>North York</td>\n",
       "      <td>Lawrence Manor, Lawrence Heights</td>\n",
       "      <td>43.718518</td>\n",
       "      <td>-79.464763</td>\n",
       "    </tr>\n",
       "    <tr>\n",
       "      <th>M7A</th>\n",
       "      <td>Downtown Toronto</td>\n",
       "      <td>Queen's Park, Ontario Provincial Government</td>\n",
       "      <td>43.662301</td>\n",
       "      <td>-79.389494</td>\n",
       "    </tr>\n",
       "  </tbody>\n",
       "</table>\n",
       "</div>"
      ],
      "text/plain": [
       "                     Borough                                Neighbourhood  \\\n",
       "PostalCode                                                                  \n",
       "M3A               North York                                    Parkwoods   \n",
       "M4A               North York                             Victoria Village   \n",
       "M5A         Downtown Toronto                    Regent Park, Harbourfront   \n",
       "M6A               North York             Lawrence Manor, Lawrence Heights   \n",
       "M7A         Downtown Toronto  Queen's Park, Ontario Provincial Government   \n",
       "\n",
       "             Latitude  Longitude  \n",
       "PostalCode                        \n",
       "M3A         43.753259 -79.329656  \n",
       "M4A         43.725882 -79.315572  \n",
       "M5A         43.654260 -79.360636  \n",
       "M6A         43.718518 -79.464763  \n",
       "M7A         43.662301 -79.389494  "
      ]
     },
     "execution_count": 11,
     "metadata": {},
     "output_type": "execute_result"
    }
   ],
   "source": [
    "df[[\"Latitude\", \"Longitude\"]] = dfLatLong\n",
    "# Preview the dataframe\n",
    "df.head()"
   ]
  },
  {
   "cell_type": "markdown",
   "metadata": {},
   "source": [
    "Finally, reset the index and obtain the desired dataframe"
   ]
  },
  {
   "cell_type": "code",
   "execution_count": 12,
   "metadata": {},
   "outputs": [
    {
     "data": {
      "text/html": [
       "<div>\n",
       "<style scoped>\n",
       "    .dataframe tbody tr th:only-of-type {\n",
       "        vertical-align: middle;\n",
       "    }\n",
       "\n",
       "    .dataframe tbody tr th {\n",
       "        vertical-align: top;\n",
       "    }\n",
       "\n",
       "    .dataframe thead th {\n",
       "        text-align: right;\n",
       "    }\n",
       "</style>\n",
       "<table border=\"1\" class=\"dataframe\">\n",
       "  <thead>\n",
       "    <tr style=\"text-align: right;\">\n",
       "      <th></th>\n",
       "      <th>PostalCode</th>\n",
       "      <th>Borough</th>\n",
       "      <th>Neighbourhood</th>\n",
       "      <th>Latitude</th>\n",
       "      <th>Longitude</th>\n",
       "    </tr>\n",
       "  </thead>\n",
       "  <tbody>\n",
       "    <tr>\n",
       "      <th>0</th>\n",
       "      <td>M3A</td>\n",
       "      <td>North York</td>\n",
       "      <td>Parkwoods</td>\n",
       "      <td>43.753259</td>\n",
       "      <td>-79.329656</td>\n",
       "    </tr>\n",
       "    <tr>\n",
       "      <th>1</th>\n",
       "      <td>M4A</td>\n",
       "      <td>North York</td>\n",
       "      <td>Victoria Village</td>\n",
       "      <td>43.725882</td>\n",
       "      <td>-79.315572</td>\n",
       "    </tr>\n",
       "    <tr>\n",
       "      <th>2</th>\n",
       "      <td>M5A</td>\n",
       "      <td>Downtown Toronto</td>\n",
       "      <td>Regent Park, Harbourfront</td>\n",
       "      <td>43.654260</td>\n",
       "      <td>-79.360636</td>\n",
       "    </tr>\n",
       "    <tr>\n",
       "      <th>3</th>\n",
       "      <td>M6A</td>\n",
       "      <td>North York</td>\n",
       "      <td>Lawrence Manor, Lawrence Heights</td>\n",
       "      <td>43.718518</td>\n",
       "      <td>-79.464763</td>\n",
       "    </tr>\n",
       "    <tr>\n",
       "      <th>4</th>\n",
       "      <td>M7A</td>\n",
       "      <td>Downtown Toronto</td>\n",
       "      <td>Queen's Park, Ontario Provincial Government</td>\n",
       "      <td>43.662301</td>\n",
       "      <td>-79.389494</td>\n",
       "    </tr>\n",
       "  </tbody>\n",
       "</table>\n",
       "</div>"
      ],
      "text/plain": [
       "  PostalCode           Borough                                Neighbourhood  \\\n",
       "0        M3A        North York                                    Parkwoods   \n",
       "1        M4A        North York                             Victoria Village   \n",
       "2        M5A  Downtown Toronto                    Regent Park, Harbourfront   \n",
       "3        M6A        North York             Lawrence Manor, Lawrence Heights   \n",
       "4        M7A  Downtown Toronto  Queen's Park, Ontario Provincial Government   \n",
       "\n",
       "    Latitude  Longitude  \n",
       "0  43.753259 -79.329656  \n",
       "1  43.725882 -79.315572  \n",
       "2  43.654260 -79.360636  \n",
       "3  43.718518 -79.464763  \n",
       "4  43.662301 -79.389494  "
      ]
     },
     "execution_count": 12,
     "metadata": {},
     "output_type": "execute_result"
    }
   ],
   "source": [
    "df.reset_index(inplace = True)\n",
    "# Preview the dataframe\n",
    "df.head()"
   ]
  },
  {
   "cell_type": "markdown",
   "metadata": {},
   "source": [
    "This is **THE END OF PART - 2**"
   ]
  },
  {
   "cell_type": "markdown",
   "metadata": {},
   "source": [
    "<h1><u>Part-3:</u> Explore and cluster the neighborhoods, based on position/direction</h1>"
   ]
  },
  {
   "cell_type": "markdown",
   "metadata": {},
   "source": [
    "First of all, I'll extract the rows from df containing \"Toronto\" in their Borough into a new dataframe **dfToronto**."
   ]
  },
  {
   "cell_type": "code",
   "execution_count": 13,
   "metadata": {},
   "outputs": [],
   "source": [
    "# Initialise a new dataframe\n",
    "dfToronto = pd.DataFrame(df)"
   ]
  },
  {
   "cell_type": "code",
   "execution_count": 14,
   "metadata": {},
   "outputs": [],
   "source": [
    "# Create a function which checks if the Borough name consists of \"Toronto\"\n",
    "def hasToronto(row):\n",
    "    return \"Toronto\" in row"
   ]
  },
  {
   "cell_type": "code",
   "execution_count": 15,
   "metadata": {},
   "outputs": [
    {
     "data": {
      "text/plain": [
       "array([False, False,  True, False,  True, False, False, False, False,\n",
       "        True, False, False, False, False, False,  True, False, False,\n",
       "       False,  True,  True, False, False, False,  True,  True, False,\n",
       "       False, False, False,  True,  True, False, False, False, False,\n",
       "        True,  True, False, False, False,  True,  True,  True, False,\n",
       "       False, False,  True,  True, False, False, False, False, False,\n",
       "        True, False, False, False, False, False, False,  True,  True,\n",
       "       False, False, False, False,  True,  True,  True, False, False,\n",
       "       False,  True,  True,  True, False, False, False,  True,  True,\n",
       "        True, False,  True,  True, False,  True,  True, False, False,\n",
       "       False,  True,  True, False, False, False,  True,  True, False,\n",
       "        True,  True, False, False])"
      ]
     },
     "execution_count": 15,
     "metadata": {},
     "output_type": "execute_result"
    }
   ],
   "source": [
    "# Apply this function on the dataframe to obtain a mask/filter for extracting such rows\n",
    "hasTorontoMask = np.array(df[\"Borough\"].apply(hasToronto))\n",
    "# Check the mask\n",
    "hasTorontoMask"
   ]
  },
  {
   "cell_type": "code",
   "execution_count": 16,
   "metadata": {},
   "outputs": [
    {
     "data": {
      "text/html": [
       "<div>\n",
       "<style scoped>\n",
       "    .dataframe tbody tr th:only-of-type {\n",
       "        vertical-align: middle;\n",
       "    }\n",
       "\n",
       "    .dataframe tbody tr th {\n",
       "        vertical-align: top;\n",
       "    }\n",
       "\n",
       "    .dataframe thead th {\n",
       "        text-align: right;\n",
       "    }\n",
       "</style>\n",
       "<table border=\"1\" class=\"dataframe\">\n",
       "  <thead>\n",
       "    <tr style=\"text-align: right;\">\n",
       "      <th></th>\n",
       "      <th>PostalCode</th>\n",
       "      <th>Borough</th>\n",
       "      <th>Neighbourhood</th>\n",
       "      <th>Latitude</th>\n",
       "      <th>Longitude</th>\n",
       "    </tr>\n",
       "  </thead>\n",
       "  <tbody>\n",
       "    <tr>\n",
       "      <th>0</th>\n",
       "      <td>M5A</td>\n",
       "      <td>Downtown Toronto</td>\n",
       "      <td>Regent Park, Harbourfront</td>\n",
       "      <td>43.654260</td>\n",
       "      <td>-79.360636</td>\n",
       "    </tr>\n",
       "    <tr>\n",
       "      <th>1</th>\n",
       "      <td>M7A</td>\n",
       "      <td>Downtown Toronto</td>\n",
       "      <td>Queen's Park, Ontario Provincial Government</td>\n",
       "      <td>43.662301</td>\n",
       "      <td>-79.389494</td>\n",
       "    </tr>\n",
       "    <tr>\n",
       "      <th>2</th>\n",
       "      <td>M5B</td>\n",
       "      <td>Downtown Toronto</td>\n",
       "      <td>Garden District, Ryerson</td>\n",
       "      <td>43.657162</td>\n",
       "      <td>-79.378937</td>\n",
       "    </tr>\n",
       "    <tr>\n",
       "      <th>3</th>\n",
       "      <td>M5C</td>\n",
       "      <td>Downtown Toronto</td>\n",
       "      <td>St. James Town</td>\n",
       "      <td>43.651494</td>\n",
       "      <td>-79.375418</td>\n",
       "    </tr>\n",
       "    <tr>\n",
       "      <th>4</th>\n",
       "      <td>M4E</td>\n",
       "      <td>East Toronto</td>\n",
       "      <td>The Beaches</td>\n",
       "      <td>43.676357</td>\n",
       "      <td>-79.293031</td>\n",
       "    </tr>\n",
       "    <tr>\n",
       "      <th>5</th>\n",
       "      <td>M5E</td>\n",
       "      <td>Downtown Toronto</td>\n",
       "      <td>Berczy Park</td>\n",
       "      <td>43.644771</td>\n",
       "      <td>-79.373306</td>\n",
       "    </tr>\n",
       "    <tr>\n",
       "      <th>6</th>\n",
       "      <td>M5G</td>\n",
       "      <td>Downtown Toronto</td>\n",
       "      <td>Central Bay Street</td>\n",
       "      <td>43.657952</td>\n",
       "      <td>-79.387383</td>\n",
       "    </tr>\n",
       "    <tr>\n",
       "      <th>7</th>\n",
       "      <td>M6G</td>\n",
       "      <td>Downtown Toronto</td>\n",
       "      <td>Christie</td>\n",
       "      <td>43.669542</td>\n",
       "      <td>-79.422564</td>\n",
       "    </tr>\n",
       "    <tr>\n",
       "      <th>8</th>\n",
       "      <td>M5H</td>\n",
       "      <td>Downtown Toronto</td>\n",
       "      <td>Richmond, Adelaide, King</td>\n",
       "      <td>43.650571</td>\n",
       "      <td>-79.384568</td>\n",
       "    </tr>\n",
       "    <tr>\n",
       "      <th>9</th>\n",
       "      <td>M6H</td>\n",
       "      <td>West Toronto</td>\n",
       "      <td>Dufferin, Dovercourt Village</td>\n",
       "      <td>43.669005</td>\n",
       "      <td>-79.442259</td>\n",
       "    </tr>\n",
       "  </tbody>\n",
       "</table>\n",
       "</div>"
      ],
      "text/plain": [
       "  PostalCode           Borough                                Neighbourhood  \\\n",
       "0        M5A  Downtown Toronto                    Regent Park, Harbourfront   \n",
       "1        M7A  Downtown Toronto  Queen's Park, Ontario Provincial Government   \n",
       "2        M5B  Downtown Toronto                     Garden District, Ryerson   \n",
       "3        M5C  Downtown Toronto                               St. James Town   \n",
       "4        M4E      East Toronto                                  The Beaches   \n",
       "5        M5E  Downtown Toronto                                  Berczy Park   \n",
       "6        M5G  Downtown Toronto                           Central Bay Street   \n",
       "7        M6G  Downtown Toronto                                     Christie   \n",
       "8        M5H  Downtown Toronto                     Richmond, Adelaide, King   \n",
       "9        M6H      West Toronto                 Dufferin, Dovercourt Village   \n",
       "\n",
       "    Latitude  Longitude  \n",
       "0  43.654260 -79.360636  \n",
       "1  43.662301 -79.389494  \n",
       "2  43.657162 -79.378937  \n",
       "3  43.651494 -79.375418  \n",
       "4  43.676357 -79.293031  \n",
       "5  43.644771 -79.373306  \n",
       "6  43.657952 -79.387383  \n",
       "7  43.669542 -79.422564  \n",
       "8  43.650571 -79.384568  \n",
       "9  43.669005 -79.442259  "
      ]
     },
     "execution_count": 16,
     "metadata": {},
     "output_type": "execute_result"
    }
   ],
   "source": [
    "# Use the above mask to obtain the desired rows into dfToronto\n",
    "dfToronto = df[hasTorontoMask]\n",
    "# Reset the index\n",
    "dfToronto.reset_index(drop = True, inplace = True)\n",
    "# Preview the dataframe\n",
    "dfToronto.head(10)"
   ]
  },
  {
   "cell_type": "markdown",
   "metadata": {},
   "source": [
    "I'll now generate the initial map of Toronto.\n",
    "\n",
    "I've obtained the coordinates of Toronto from a Google search."
   ]
  },
  {
   "cell_type": "code",
   "execution_count": 17,
   "metadata": {},
   "outputs": [],
   "source": [
    "torontoCoords = (43.6532, -79.3832)"
   ]
  },
  {
   "cell_type": "code",
   "execution_count": 18,
   "metadata": {},
   "outputs": [
    {
     "name": "stdout",
     "output_type": "stream",
     "text": [
      "FOLIUM Map-1\n",
      "\n"
     ]
    },
    {
     "data": {
      "text/html": [
       "<div style=\"width:100%;\"><div style=\"position:relative;width:100%;height:0;padding-bottom:60%;\"><span style=\"color:#565656\">Make this Notebook Trusted to load map: File -> Trust Notebook</span><iframe src=\"about:blank\" style=\"position:absolute;width:100%;height:100%;left:0;top:0;border:none !important;\" data-html=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 onload=\"this.contentDocument.open();this.contentDocument.write(atob(this.getAttribute('data-html')));this.contentDocument.close();\" allowfullscreen webkitallowfullscreen mozallowfullscreen></iframe></div></div>"
      ],
      "text/plain": [
       "<folium.folium.Map at 0x2bda9cde6c8>"
      ]
     },
     "execution_count": 18,
     "metadata": {},
     "output_type": "execute_result"
    }
   ],
   "source": [
    "torontoMap = folium.Map(location = torontoCoords, zoom_start = 12)\n",
    "\n",
    "# Now I'll add CircleMarkers for the different postal codes\n",
    "for postalCode, lat, long in zip(dfToronto[\"PostalCode\"], dfToronto[\"Latitude\"], dfToronto[\"Longitude\"]):\n",
    "    folium.CircleMarker(\n",
    "        (lat, long),\n",
    "        radius = 7,\n",
    "        opacity = 0.4,\n",
    "        fill_opacity = 0.5,\n",
    "        color = \"blue\",\n",
    "        fill = True,\n",
    "        fill_color = \"red\",\n",
    "#         fill_opacity = 0.3,\n",
    "        popup = postalCode\n",
    "    ).add_to(torontoMap)\n",
    "    \n",
    "print(\"FOLIUM Map-1\\n\")\n",
    "# Show the map\n",
    "torontoMap"
   ]
  },
  {
   "cell_type": "markdown",
   "metadata": {},
   "source": [
    "I'll now check the different unique Boroughs in Toronto by using groupby"
   ]
  },
  {
   "cell_type": "code",
   "execution_count": 19,
   "metadata": {},
   "outputs": [
    {
     "data": {
      "text/html": [
       "<div>\n",
       "<style scoped>\n",
       "    .dataframe tbody tr th:only-of-type {\n",
       "        vertical-align: middle;\n",
       "    }\n",
       "\n",
       "    .dataframe tbody tr th {\n",
       "        vertical-align: top;\n",
       "    }\n",
       "\n",
       "    .dataframe thead th {\n",
       "        text-align: right;\n",
       "    }\n",
       "</style>\n",
       "<table border=\"1\" class=\"dataframe\">\n",
       "  <thead>\n",
       "    <tr style=\"text-align: right;\">\n",
       "      <th></th>\n",
       "      <th>0</th>\n",
       "      <th>1</th>\n",
       "    </tr>\n",
       "  </thead>\n",
       "  <tbody>\n",
       "    <tr>\n",
       "      <th>0</th>\n",
       "      <td>Central Toronto</td>\n",
       "      <td>18    Central Toronto\n",
       "19    Central Toronto\n",
       "20...</td>\n",
       "    </tr>\n",
       "    <tr>\n",
       "      <th>1</th>\n",
       "      <td>Downtown Toronto</td>\n",
       "      <td>0     Downtown Toronto\n",
       "1     Downtown Toronto\n",
       "...</td>\n",
       "    </tr>\n",
       "    <tr>\n",
       "      <th>2</th>\n",
       "      <td>East Toronto</td>\n",
       "      <td>4     East Toronto\n",
       "12    East Toronto\n",
       "15    Ea...</td>\n",
       "    </tr>\n",
       "    <tr>\n",
       "      <th>3</th>\n",
       "      <td>West Toronto</td>\n",
       "      <td>9     West Toronto\n",
       "11    West Toronto\n",
       "14    We...</td>\n",
       "    </tr>\n",
       "  </tbody>\n",
       "</table>\n",
       "</div>"
      ],
      "text/plain": [
       "                  0                                                  1\n",
       "0   Central Toronto  18    Central Toronto\n",
       "19    Central Toronto\n",
       "20...\n",
       "1  Downtown Toronto  0     Downtown Toronto\n",
       "1     Downtown Toronto\n",
       "...\n",
       "2      East Toronto  4     East Toronto\n",
       "12    East Toronto\n",
       "15    Ea...\n",
       "3      West Toronto  9     West Toronto\n",
       "11    West Toronto\n",
       "14    We..."
      ]
     },
     "execution_count": 19,
     "metadata": {},
     "output_type": "execute_result"
    }
   ],
   "source": [
    "pd.DataFrame(dfToronto.groupby(\"Borough\")[\"Borough\"])"
   ]
  },
  {
   "cell_type": "markdown",
   "metadata": {},
   "source": [
    "Since there are 4 Boroughs as depicted in the above dataframe, I'll try to divide the various postal codes into 4 clusters.\n",
    "\n",
    "Module used will be sklearn; its KMeans class.\n",
    "\n",
    "I'll use the \"k-means++\" init value for smart centroid choice and n_init will be set to 12 for more accurate results."
   ]
  },
  {
   "cell_type": "code",
   "execution_count": 20,
   "metadata": {},
   "outputs": [
    {
     "data": {
      "text/plain": [
       "KMeans(n_clusters=4, n_init=12)"
      ]
     },
     "execution_count": 20,
     "metadata": {},
     "output_type": "execute_result"
    }
   ],
   "source": [
    "kmeans = KMeans(init = \"k-means++\", n_clusters = 4, n_init = 12)\n",
    "# Fit a feature matrix with the latitudes and longitudes\n",
    "kmeans.fit(dfToronto[[\"Latitude\", \"Longitude\"]])"
   ]
  },
  {
   "cell_type": "code",
   "execution_count": 21,
   "metadata": {},
   "outputs": [
    {
     "name": "stdout",
     "output_type": "stream",
     "text": [
      "[[ 43.6547639  -79.38308287]\n",
      " [ 43.66943648 -79.32465436]\n",
      " [ 43.70563855 -79.39811351]\n",
      " [ 43.65506566 -79.44547176]] \n",
      "\n",
      " [0 0 0 0 1 0 0 3 0 3 0 3 1 0 3 1 0 1 2 2 2 2 3 2 0 3 2 0 3 2 0 2 0 0 0 0 0\n",
      " 0 1]\n"
     ]
    }
   ],
   "source": [
    "# Store the centroid coordinates and the labels into new variables\n",
    "centroids, labels = kmeans.cluster_centers_, kmeans.labels_\n",
    "# Print the above arrays\n",
    "print(centroids, \"\\n\\n\", labels)"
   ]
  },
  {
   "cell_type": "markdown",
   "metadata": {},
   "source": [
    "Now I'll use folium and the above arrays to show the centroids of the clusters, as well as all the points"
   ]
  },
  {
   "cell_type": "code",
   "execution_count": 22,
   "metadata": {},
   "outputs": [
    {
     "name": "stdout",
     "output_type": "stream",
     "text": [
      "FOLIUM Map-2\n",
      "\n"
     ]
    },
    {
     "data": {
      "text/html": [
       "<div style=\"width:100%;\"><div style=\"position:relative;width:100%;height:0;padding-bottom:60%;\"><span style=\"color:#565656\">Make this Notebook Trusted to load map: File -> Trust Notebook</span><iframe src=\"about:blank\" style=\"position:absolute;width:100%;height:100%;left:0;top:0;border:none !important;\" data-html=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 onload=\"this.contentDocument.open();this.contentDocument.write(atob(this.getAttribute('data-html')));this.contentDocument.close();\" allowfullscreen webkitallowfullscreen mozallowfullscreen></iframe></div></div>"
      ],
      "text/plain": [
       "<folium.folium.Map at 0x2bda9d787c8>"
      ]
     },
     "execution_count": 22,
     "metadata": {},
     "output_type": "execute_result"
    }
   ],
   "source": [
    "torontoClusteredMap = folium.Map(location = torontoCoords, zoom_start = 12)\n",
    "\n",
    "# Set the array of colors to be used to colour the points according to the cluster they belong to\n",
    "colors = [\"red\", \"blue\", \"green\", \"orange\"]\n",
    "\n",
    "# Add circle markers for the centroids\n",
    "for i, centroid in enumerate(centroids):\n",
    "    folium.CircleMarker(\n",
    "        centroid,\n",
    "        radius = 100,\n",
    "        color = \"white\",\n",
    "        fill = True,\n",
    "        fill_color = colors[i],\n",
    "        fill_opacity = 0.6,\n",
    "        popup = \"Cluster-%d\"%(i + 1)\n",
    "    ).add_to(torontoClusteredMap)\n",
    "\n",
    "# Now I'll add CircleMarkers for the different postal codes\n",
    "for postalCode, lat, long, labelIndex in zip(dfToronto[\"PostalCode\"], dfToronto[\"Latitude\"], dfToronto[\"Longitude\"], labels):\n",
    "    folium.CircleMarker(\n",
    "        (lat, long),\n",
    "        radius = 10,\n",
    "        fill_opacity = 0.9,\n",
    "        color = \"black\",\n",
    "        fill = True,\n",
    "        fill_color = colors[labelIndex],\n",
    "        popup = postalCode\n",
    "    ).add_to(torontoClusteredMap)\n",
    "    \n",
    "print(\"FOLIUM Map-2\\n\")\n",
    "# Show the map\n",
    "torontoClusteredMap"
   ]
  },
  {
   "cell_type": "markdown",
   "metadata": {},
   "source": [
    "I have increased the size of the cluster centroid markers so that the clusters are more easily visible."
   ]
  },
  {
   "cell_type": "markdown",
   "metadata": {},
   "source": [
    "This is **THE END OF PART - 3**"
   ]
  }
 ],
 "metadata": {
  "kernelspec": {
   "display_name": "Python 3",
   "language": "python",
   "name": "python3"
  },
  "language_info": {
   "codemirror_mode": {
    "name": "ipython",
    "version": 3
   },
   "file_extension": ".py",
   "mimetype": "text/x-python",
   "name": "python",
   "nbconvert_exporter": "python",
   "pygments_lexer": "ipython3",
   "version": "3.7.6"
  }
 },
 "nbformat": 4,
 "nbformat_minor": 4
}
